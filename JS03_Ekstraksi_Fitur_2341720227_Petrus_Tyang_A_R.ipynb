{
  "nbformat": 4,
  "nbformat_minor": 0,
  "metadata": {
    "colab": {
      "provenance": [],
      "authorship_tag": "ABX9TyPmU5qolrgbdEPf0rfcvAeM",
      "include_colab_link": true
    },
    "kernelspec": {
      "name": "python3",
      "display_name": "Python 3"
    },
    "language_info": {
      "name": "python"
    }
  },
  "cells": [
    {
      "cell_type": "markdown",
      "metadata": {
        "id": "view-in-github",
        "colab_type": "text"
      },
      "source": [
        "<a href=\"https://colab.research.google.com/github/petrusthelastking/TANDANG_GAWE_KUIS_ULO-PYTHON-/blob/main/JS03_Ekstraksi_Fitur_2341720227_Petrus_Tyang_A_R.ipynb\" target=\"_parent\"><img src=\"https://colab.research.google.com/assets/colab-badge.svg\" alt=\"Open In Colab\"/></a>"
      ]
    },
    {
      "cell_type": "markdown",
      "source": [
        "# Pratikum 1"
      ],
      "metadata": {
        "id": "hVsFUZuvJw25"
      }
    },
    {
      "cell_type": "markdown",
      "source": [
        "## Langkah 1 - Import Library"
      ],
      "metadata": {
        "id": "fzKfxKyIKYQj"
      }
    },
    {
      "cell_type": "code",
      "execution_count": 3,
      "metadata": {
        "id": "AVfhsDNSJqzR"
      },
      "outputs": [],
      "source": [
        "import pandas as pd\n",
        "import numpy as np\n",
        "from sklearn.model_selection import train_test_split\n",
        "from sklearn.compose import ColumnTransformer\n",
        "from sklearn.preprocessing import OneHotEncoder, StandardScaler\n",
        "from sklearn.pipeline import Pipeline\n",
        "from sklearn.impute import SimpleImputer\n",
        "from sklearn.linear_model import LogisticRegression\n",
        "from sklearn.feature_selection import chi2, SelectKBest, RFE\n",
        "from sklearn.metrics import accuracy_score, classification_report"
      ]
    },
    {
      "cell_type": "markdown",
      "source": [
        "## Langkah 2 - Load Data dan Pengelompokan Data"
      ],
      "metadata": {
        "id": "v39FSJdAKfE6"
      }
    },
    {
      "cell_type": "code",
      "source": [
        "# Load Data\n",
        "df = pd.read_csv(\"Titanic-Dataset (2).csv\")\n",
        "\n",
        "# Pisahkan Survived\n",
        "y = df[\"Survived\"].astype(int)\n",
        "X = df.drop(columns=[\"Survived\"])\n",
        "\n",
        "# Buat list variabel numerik dan kategorikal\n",
        "# Akan digunakan untuk proses seleksi fitur\n",
        "# Name tidak akan digunakan karena tidak relevan\n",
        "num_cols = [\"Age\", \"SibSp\", \"Parch\", \"Fare\"]\n",
        "cat_cols = [\"Pclass\", \"Sex\", \"Embarked\"]"
      ],
      "metadata": {
        "id": "NLxQFlFVKdn1"
      },
      "execution_count": 4,
      "outputs": []
    },
    {
      "cell_type": "markdown",
      "source": [
        "## Langkah 3 - Ekstraksi Fitur"
      ],
      "metadata": {
        "id": "tWK7PnE0KzO0"
      }
    },
    {
      "cell_type": "code",
      "source": [
        "# Ekstaksi Fitur dengan Pipeline\n",
        "\n",
        "# Data Numerik\n",
        "num_tf = Pipeline([\n",
        "    (\"imputer\", SimpleImputer(strategy=\"median\")),\n",
        "    (\"scaler\", StandardScaler())\n",
        "])\n",
        "\n",
        "# Data Kategorikal\n",
        "cat_tf = Pipeline([\n",
        "    (\"imputer\", SimpleImputer(strategy=\"most_frequent\")),\n",
        "    (\"onehot\", OneHotEncoder(handle_unknown=\"ignore\"))\n",
        "])"
      ],
      "metadata": {
        "id": "fJQ66zBSKy-W"
      },
      "execution_count": 5,
      "outputs": []
    },
    {
      "cell_type": "markdown",
      "source": [
        "## Langkah 3.1 - Feature Construction"
      ],
      "metadata": {
        "id": "My6oZzgWK4Za"
      }
    },
    {
      "cell_type": "code",
      "source": [
        "# Buat Fitur FamilySize\n",
        "X[\"FamilySize\"] = X[\"SibSp\"].fillna(0) + X[\"Parch\"].fillna(0) + 1\n",
        "\n",
        "# Tambahkan FamilySize pada kelompok numerikal\n",
        "preprocess = ColumnTransformer([\n",
        "    (\"num\", num_tf, num_cols + [\"FamilySize\"]),\n",
        "    (\"cat\", cat_tf, cat_cols),\n",
        "])"
      ],
      "metadata": {
        "id": "DsHBqrZKK4IO"
      },
      "execution_count": 6,
      "outputs": []
    },
    {
      "cell_type": "markdown",
      "source": [
        "## Langkah 4 - Seleksi Fitur"
      ],
      "metadata": {
        "id": "msyM-BbeK9Hm"
      }
    },
    {
      "cell_type": "code",
      "source": [
        "from sklearn.feature_selection import f_classif\n",
        "selector_filter = SelectKBest(score_func=f_classif, k=5)"
      ],
      "metadata": {
        "id": "gUXp5hSLK87i"
      },
      "execution_count": 7,
      "outputs": []
    },
    {
      "cell_type": "code",
      "source": [
        "# Seleksi fitur dengan SelectKBest\n",
        "# Fungsi tersebut akan menggunakan analisis variance\n",
        "# Baca: https://scikit-learn.org/stable/modules/feature_selection.html#univariate-feature-selection\n",
        "\n",
        "from sklearn.feature_selection import f_classif\n",
        "selector_filter = SelectKBest(score_func=f_classif, k=5)\n",
        "\n",
        "# Buat pipeline final (INGAT INI HANYA PIPELINE, BELUM MEMPROSES DATA)\n",
        "pipe_filter = Pipeline([\n",
        "    (\"prep\", preprocess), # menjalankan pipeline preprocessing\n",
        "    (\"sel\", selector_filter), # menjalankan pipeline seleksi fitur\n",
        "    (\"clf\", LogisticRegression(max_iter=1000)) # uji dengan model sederhana -> Logistic Regression\n",
        "])"
      ],
      "metadata": {
        "id": "8grxMP4LLES5"
      },
      "execution_count": 8,
      "outputs": []
    },
    {
      "cell_type": "markdown",
      "source": [
        "## Langkah 5 - Uji dengan Model"
      ],
      "metadata": {
        "id": "8txHFXpALGwk"
      }
    },
    {
      "cell_type": "code",
      "source": [
        "# Lakukan pelatihan dan uji model\n",
        "X_train, X_test, y_train, y_test = train_test_split(X, y, stratify=y, test_size=0.2, random_state=42)\n",
        "\n",
        "pipe_filter.fit(X_train, y_train)\n",
        "pred = pipe_filter.predict(X_test)\n",
        "print(\"=== Filter (ANOVA) + LR ===\")\n",
        "print(\"Accuracy:\", accuracy_score(y_test, pred))\n",
        "print(classification_report(y_test, pred))"
      ],
      "metadata": {
        "id": "bdMCsKJ3LGhk",
        "outputId": "8fff187b-6aad-4237-a604-ad30407a347b",
        "colab": {
          "base_uri": "https://localhost:8080/"
        }
      },
      "execution_count": 9,
      "outputs": [
        {
          "output_type": "stream",
          "name": "stdout",
          "text": [
            "=== Filter (ANOVA) + LR ===\n",
            "Accuracy: 0.776536312849162\n",
            "              precision    recall  f1-score   support\n",
            "\n",
            "           0       0.80      0.85      0.82       110\n",
            "           1       0.73      0.67      0.70        69\n",
            "\n",
            "    accuracy                           0.78       179\n",
            "   macro avg       0.77      0.76      0.76       179\n",
            "weighted avg       0.77      0.78      0.77       179\n",
            "\n"
          ]
        }
      ]
    },
    {
      "cell_type": "code",
      "source": [
        "# 1) Nama fitur setelah preprocess\n",
        "feat_names = pipe_filter.named_steps[\"prep\"].get_feature_names_out()\n",
        "print(\"Nama fitur:\", feat_names)\n",
        "print(\"\\n\")\n",
        "\n",
        "# 2) Mask & skor fitur terpilih (SelectKBest)\n",
        "sel = pipe_filter.named_steps[\"sel\"]\n",
        "mask = sel.get_support()\n",
        "selected_names = feat_names[mask]\n",
        "selected_scores = sel.scores_[mask]\n",
        "top = sorted(zip(selected_names, selected_scores), key=lambda t: t[1], reverse=True)[:10]\n",
        "print(\"Top fitur:\", top)"
      ],
      "metadata": {
        "id": "blAAOl8YLL7Z",
        "outputId": "d63c7a98-7dad-4b29-d877-504e56d86e8a",
        "colab": {
          "base_uri": "https://localhost:8080/"
        }
      },
      "execution_count": 10,
      "outputs": [
        {
          "output_type": "stream",
          "name": "stdout",
          "text": [
            "Nama fitur: ['num__Age' 'num__SibSp' 'num__Parch' 'num__Fare' 'num__FamilySize'\n",
            " 'cat__Pclass_1' 'cat__Pclass_2' 'cat__Pclass_3' 'cat__Sex_female'\n",
            " 'cat__Sex_male' 'cat__Embarked_C' 'cat__Embarked_Q' 'cat__Embarked_S']\n",
            "\n",
            "\n",
            "Top fitur: [('cat__Sex_female', np.float64(306.5932488951883)), ('cat__Sex_male', np.float64(306.59324889518797)), ('cat__Pclass_3', np.float64(80.33862734392042)), ('cat__Pclass_1', np.float64(73.99727564291717)), ('num__Fare', np.float64(58.31490728198491))]\n"
          ]
        }
      ]
    },
    {
      "cell_type": "markdown",
      "source": [
        "# Pratikum 2"
      ],
      "metadata": {
        "id": "dngdT9aQLdnK"
      }
    },
    {
      "cell_type": "markdown",
      "source": [
        "## Langkah 0 - Siapkan Corpus"
      ],
      "metadata": {
        "id": "1eYdTHfgLiNQ"
      }
    },
    {
      "cell_type": "code",
      "source": [
        "corpus = [\n",
        "    'the house had a tiny little mouse',\n",
        "    'the cat saw the mouse',\n",
        "    'the mouse ran away from the house',\n",
        "    'the cat finally ate the mouse',\n",
        "    'the end of the mouse story'\n",
        "]"
      ],
      "metadata": {
        "id": "6cHiA-ZTLdOB"
      },
      "execution_count": null,
      "outputs": []
    },
    {
      "cell_type": "markdown",
      "source": [
        "## Langkah 1 - Buat Model TF-IDF"
      ],
      "metadata": {
        "id": "lkME2rxsLlda"
      }
    },
    {
      "cell_type": "code",
      "source": [
        "from sklearn.feature_extraction.text import TfidfVectorizer\n",
        "\n",
        "# Inisiasi obyek TFidfVectorizer\n",
        "vect = TfidfVectorizer(stop_words='english')\n",
        "\n",
        "# Pembobotan TF-IDF\n",
        "resp = vect.fit_transform(corpus)\n",
        "\n",
        "# Cetak hasil\n",
        "print(resp)"
      ],
      "metadata": {
        "id": "vgWehUeVLlO5"
      },
      "execution_count": null,
      "outputs": []
    },
    {
      "cell_type": "markdown",
      "source": [
        "## Langkah 2 - Cek Kata yang Digunakan"
      ],
      "metadata": {
        "id": "gWkTzYrgLsgK"
      }
    },
    {
      "cell_type": "code",
      "source": [],
      "metadata": {
        "id": "CeZyYLCfLqB6"
      },
      "execution_count": null,
      "outputs": []
    }
  ]
}